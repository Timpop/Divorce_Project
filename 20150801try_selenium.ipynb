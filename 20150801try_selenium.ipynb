{
 "cells": [
  {
   "cell_type": "code",
   "execution_count": 99,
   "metadata": {
    "collapsed": false
   },
   "outputs": [
    {
     "name": "stdout",
     "output_type": "stream",
     "text": [
      "1 None\n",
      "2 {('a', 1): 100, ('d', 55): 250, ('b', 3): 'yes', ('c', 10): 0.98}\n",
      "3 [('a', 1), ('b', 3), ('f', 6), ('c', 10), ('e', 22), ('d', 55)]\n",
      "('a', 1) 100\n",
      "('b', 3) yes\n",
      "('f', 6) 789\n",
      "('c', 10) 0.98\n",
      "('e', 22) 123\n",
      "('d', 55) 250\n",
      "<type 'list'>\n"
     ]
    }
   ],
   "source": [
    "# -*- coding:utf-8 -*- \n",
    "\n",
    "dic = {('a',1):100, ('b',3):\"yes\", ('c',10):0.98} \n",
    "print \"1\",dic.get('d')\n",
    "#print dic['d']  沒d,所以會出錯\n",
    "dic[('d',55)] = 250 \n",
    "print \"2\",dic \n",
    "dic.update({('e',22):123, ('f',6):789}) \n",
    "#dic {'a': 100, 'c': 0.98, 'b': 'yes', 'e': 123, 'd': 'new', 'f': 789}\n",
    "print \"3\",sorted(dic,key = lambda x : x[1]) #只能針對key排序與顯示\n",
    "for rec in sorted(dic,key = lambda x : x[1]): \n",
    "    print rec, dic[rec]"
   ]
  },
  {
   "cell_type": "code",
   "execution_count": 2,
   "metadata": {
    "collapsed": false,
    "scrolled": false
   },
   "outputs": [
    {
     "name": "stdout",
     "output_type": "stream",
     "text": [
      "共 3567 筆 第 1 / 179 頁\n"
     ]
    },
    {
     "name": "stderr",
     "output_type": "stream",
     "text": [
      "C:\\Python27\\lib\\site-packages\\bs4\\__init__.py:166: UserWarning: No parser was explicitly specified, so I'm using the best available HTML parser for this system (\"lxml\"). This usually isn't a problem, but if you run this code on another system, or in a different virtual environment, it may use a different parser and behave differently.\n",
      "\n",
      "To get rid of this warning, change this:\n",
      "\n",
      " BeautifulSoup([your markup])\n",
      "\n",
      "to this:\n",
      "\n",
      " BeautifulSoup([your markup], \"lxml\")\n",
      "\n",
      "  markup_type=markup_type))\n"
     ]
    },
    {
     "data": {
      "text/plain": [
       "'\\n104,\\xe5\\xae\\xb6\\xe9\\x99\\xb8\\xe8\\xa8\\xb1,15\\n104,\\xe5\\xa9\\x9a,108\\n104,\\xe5\\xae\\xb6\\xe9\\x99\\xb8\\xe8\\xa8\\xb1,14\\n104,\\xe5\\xa9\\x9a,216\\n104,\\xe5\\xa9\\x9a,207\\n......\\n'"
      ]
     },
     "execution_count": 2,
     "metadata": {},
     "output_type": "execute_result"
    }
   ],
   "source": [
    "import requests\n",
    "from bs4 import BeautifulSoup\n",
    "import re\n",
    "rs = requests.session()  \n",
    "\n",
    "cookie = 'ASP.NET_SessionId=h3ht1fnmnb3fdc55ka51x055; lawbank=555c9235c4a9440c9cb47ca3d714938c-2; _gat=1; _ga=GA1.3.816590347.1437135848; nrhbne=QC3AH1JaeS5ciqo0/9nftg==; JubFrm-pagebox=%5EcourtFullName%3DTPDV%60SLDV%60PCDV%60ILDV%60KLDV%60TYDV%60SCDV%60MLDV%60TCDV%60CHDV%60NTDV%60ULDV%60CYDV%60TNDV%60KSDV%60HLDV%60TTDV%60PTDV%60PHDV%60KMDV%60LCDV%60KSYV%60%5Ejud_case%3D%E5%A9%9A%5Ejcatagory%3D2%5Eissimple%3D-1%5Ejt%3D%E9%9B%A2%E5%A9%9A; x=i=LX6DBRIZbYke/hY2fzlawjwFLgn0mokfGqS/X2tmtwyFDw+4jydPQXdnVecyT3v9&j=ExKZIgGGiQD19KUxjSulmRd4cCS013mf16VUoBCxWainbmYufAN3bzZLoLqLFhwxOnTKxyGFWxF875EJIi2dLxJH6hbqBxjAtbFdhUFXhN0N52w88aupjAgf+1xanz35gqeqSqCyVcutjKPBYXx2S4NWdfslegbdREC9AfMjAm+zkZefg3LaDBQlB1tXv4gpeRNEF+2/vUrprNHpdwTTB7ldH0fldmjQzRJ40RhXbZas97JDbl8rytgzE7yXF3pU1aOS+CB+FuM2RsvvSTyLiNC49QoPH/FsVgTUtN2MDuzVeQ050f22OH0IQwjVQ0Gb'\n",
    "header={'Cookie':cookie}\n",
    "\n",
    "local_diction={\n",
    "    '臺灣台北地方法院':1,\n",
    "    '臺灣士林地方法院':2,\n",
    "    '臺灣新北地方法院':3,\n",
    "    '臺灣宜蘭地方法院':4,\n",
    "    '臺灣基隆地方法院':5,\n",
    "    '臺灣桃園地方法院':6,\n",
    "    '臺灣新竹地方法院':7,\n",
    "    '臺灣苗栗地方法院':8,\n",
    "    '臺灣臺中地方法院':9,\n",
    "    '臺灣彰化地方法院':10,\n",
    "    '臺灣南投地方法院':11,\n",
    "    '臺灣雲林地方法院':12,\n",
    "    '臺灣嘉義地方法院':13,\n",
    "    '臺灣臺南地方法院':14,\n",
    "    '臺灣高雄地方法院':15,\n",
    "    '臺灣花蓮地方法院':16,\n",
    "    '臺灣臺東地方法院':17,\n",
    "    '臺灣屏東地方法院':18,\n",
    "    '臺灣澎湖地方法院':19,\n",
    "    '臺灣金門地方法院':20,\n",
    "    '臺灣連江地方法院':21,\n",
    "    '臺灣高雄少年及家事法院地方法院':22\n",
    "    }    \n",
    "\n",
    "res = requests.get('http://fyjud.lawbank.com.tw/listcontent5.aspx', headers=header) #只抓的到第一頁\n",
    "#res.encoding #查看網頁編碼\n",
    "soup = BeautifulSoup(res.text)\n",
    "linklist = []\n",
    "filename = []\n",
    "print soup.select('.page td')[0].text  #頁數\n",
    "for ele in soup.select('.Table-List td a'):\n",
    "    linklist.append(ele.attrs['href'])\n",
    "    \n",
    "for list_num in range(0,len(linklist)-1):\n",
    "    rs_get =rs.get('http://fyjud.lawbank.com.tw/'+linklist[list_num],headers=header)\n",
    "    response = rs_get.text.encode('utf8')\n",
    "    response_soup = BeautifulSoup(response)\n",
    "    '''\n",
    "    test_str=response_soup.select('.Table-List td')[1].text\n",
    "    print test_str\n",
    "    print type(test_str)\n",
    "    print dir(test_str)\n",
    "    '''\n",
    "    filenumber=response_soup.select('.Table-List td')[1].text\n",
    "    fileid=filenumber.split(',')[0].encode('utf8')+'05'+filenumber.split(',')[2].encode('utf8')\n",
    "    localation = soup.select('h4')[0].text #臺灣台北地方法院 裁判書 -- 民事類\n",
    "    local_list = re.match(r'(.+?) ', localation) #臺灣台北地方法院\n",
    "    local_str =','.join(local_list.groups(0))\n",
    "    local_id=local_diction[local_str.encode('utf8')]\n",
    "    \n",
    "    filename.append('sample'+str(local_id)+'_'+fileid)\n",
    "    judgedate=response_soup.select('.Table-List td')[3].text.encode('utf8') #【裁判日期】1040630\n",
    "    judge_reason=response_soup.select('.Table-List td')[5].text.encode('utf8') #【裁判案由】離婚\n",
    "    content=response_soup.select('.Table-List td')[8].text.encode('utf8')#【裁判全文】\n",
    "    record=fileid+\";\\n\\n\"+judgedate+\";\\n\\n\"+judge_reason+\";\\n\\n\"+content\n",
    "    f = open('E:\\iii\\DataSet\\sample'+str(local_id)+'_'+\\\n",
    "             fileid+'.txt', 'w')\n",
    "    f.writelines(record)\n",
    "    f.close()\n",
    "\n",
    "'''\n",
    "104,家陸許,15\n",
    "104,婚,108\n",
    "104,家陸許,14\n",
    "104,婚,216\n",
    "104,婚,207\n",
    "......\n",
    "'''"
   ]
  },
  {
   "cell_type": "code",
   "execution_count": 3,
   "metadata": {
    "collapsed": false,
    "scrolled": true
   },
   "outputs": [
    {
     "name": "stdout",
     "output_type": "stream",
     "text": [
      "['sample1_10405164', 'sample1_10405129', 'sample1_10405119', 'sample1_1040568', 'sample1_1040563', 'sample1_1040596', 'sample1_1040595', 'sample1_1040581', 'sample1_1040530', 'sample1_10305460', 'sample1_104053', 'sample1_1040565', 'sample1_10305453', 'sample1_10405168', 'sample1_10405162', 'sample1_1040582', 'sample1_1040571', 'sample1_1040570', 'sample1_1040552']\n"
     ]
    }
   ],
   "source": [
    "'''\n",
    "for ele in filename:\n",
    "    print ele\n",
    "print 2,filename[0]  #第一個filename檔案\n",
    "'''\n",
    "'''\n",
    "import os\n",
    "for dirPath, dirNames, fileNames in os.walk(\"E:\\iii\\DataSet\\\"):\n",
    "    #print dirPath\n",
    "    for f in fileNames: #fileNames是list\n",
    "        #print f.encode('utf8') #f是str\n",
    "        #print f.decode('utf8')\n",
    "        #print \",\".join(list(f))\n",
    "        #for ele in list(f):\n",
    "            #print ele\n",
    "        #print fpath.encode('utf-8')\n",
    "'''\n",
    "print filename"
   ]
  },
  {
   "cell_type": "code",
   "execution_count": 115,
   "metadata": {
    "collapsed": false
   },
   "outputs": [],
   "source": [
    "import re\n",
    "a = soup.select('h4')[0].text #臺灣台北地方法院 裁判書 -- 民事類\n",
    "m = re.match(r'(.+?) ', a) #臺灣台北地方法院\n",
    "mm =','.join(m.groups(0))"
   ]
  },
  {
   "cell_type": "code",
   "execution_count": 51,
   "metadata": {
    "collapsed": false,
    "scrolled": false
   },
   "outputs": [
    {
     "name": "stderr",
     "output_type": "stream",
     "text": [
      "Building prefix dict from E:\\iii\\jieba\\dict.txt.big_3.txt ...\n",
      "DEBUG:jieba:Building prefix dict from E:\\iii\\jieba\\dict.txt.big_3.txt ...\n",
      "Loading model from cache c:\\users\\bigdata\\appdata\\local\\temp\\jieba.uf52a43fc8da656e96501a1c69ae51e91.cache\n",
      "DEBUG:jieba:Loading model from cache c:\\users\\bigdata\\appdata\\local\\temp\\jieba.uf52a43fc8da656e96501a1c69ae51e91.cache\n",
      "Loading model cost 0.000 seconds.\n",
      "DEBUG:jieba:Loading model cost 0.000 seconds.\n",
      "Prefix dict has been built succesfully.\n",
      "DEBUG:jieba:Prefix dict has been built succesfully.\n"
     ]
    },
    {
     "name": "stdout",
     "output_type": "stream",
     "text": [
      "10405164,;,1040803,;,離婚,;,臺,灣,臺,北地,方法,院民事,判決,　,　,　,　,　,　,　,104,年度,婚字,第,164,號原,　,　,　,告,　,張震,儀訴,訟代理,人,　,鍾,宛蓉律師,被,　,　,　,告,　,高麗,,上列,當事,人間,請求,離婚,事件,，,本院,於,民國,104,年,7,月,20,日言詞,辯論,終結,，,判決,如下,：,主, , ,文准,原告,與,被,告離婚,。,訴訟費,用,由,被,告,負擔,。,事實,及理,由,一,、,被告,經合法,通知,未,於,言,詞辯,論期,日,到場,，,核無民事,訴訟法,第,386, ,條各款,所列,情形,，,按,照家,事事件,法,第,51,條準,用民事,訴訟法,第,385,條第,1,項前,段,規定,，,爰,依,原告,之聲,請,，,由,其,一造,辯論,而,為,判決,。,二,、,原告,起訴,主張略,以,：,兩造,前,於,民國,91,年,在,美國,公證,結婚定,居美國,，,復,因,被,告父,親生病,，,兩造,即,回國定,居,，,就,近,照料,。,並,於,93,年,10,月,30,日,在,國內,舉行,結婚,儀式,宴,請,賓客,，,嗣,被,告,之,父親,於,94,年間,病逝,，,被告,執意爭,取成,為,美國,公民,，,而,原告,因,在,臺,灣已,有,穩定,工作,，,只,好,勉強,同意,被,告單,獨前,往美國,，,兩造,即,自,95,年,開始,分居,迄,今長,達八年,，,兩造,分居期,間,，,原告,雙親,及,被,告母,親照,顧責任,及家庭,經濟,重擔,皆,由,原告,一人承擔,，,被,告均,仰賴,原告,及,母親,提供,生活,開銷,。,原告,多次,要求,被,告放棄,爭取,美國,公民身,分,，,結束,長,期分局,情況,，,但,被,告不給,予明確,回答,，,無意願,改善長,期分,居狀況,，,使,原告,日漸,心灰意,冷,。,100,年,6,月間,原告,向,被,告,提出,結束,婚姻,之,想法,，,被告,亦,於,101,年,6,月,20,日,、,7,月,10,日,、,7,月,19,日以,電子,郵件,要求,與,原告,辦理,離婚,，,惟,被,告,拒絕,依照,美國律,師說,明之程序,辦理,離婚,，,執意,依照,其,所,要求,之,繁瑣,離婚,程序,，,原告,無法,配合,辦理,，,兩造,因,而,難以,協議,辦理,離婚,。,惟兩造,持續,分居,各,自生活,，,甚至,逢,年,過節,亦,無,互動,，,婚姻關,係,早,已,名存,實亡,。,原告,於,103,年,3,月,24,日起,七度,以電子,郵件,請求,被告,辦理,離婚,，,惟,被,告均,無,回應,，,只得訴,請,法院,判決,結束,徒,具空明,之,婚姻,，,使,兩造,得,以,另,覓,幸福,。,兩造,既,已,分居八年,，,多年,無夫,妻之實,，,亦,無,互動,，,形同,陌路,，,婚姻,之,意義盡失,；,況兩造,均,無維持,婚姻,意願,，,應,無,復,合,之,可能,，,顯有,難,以維持,婚姻,之,重大事,由存,在,，,爰,依民法,第,1052,條第,2,項之規定,請求,離婚,等語,。,並聲明,：,1,、,准原告,與,被,告離婚,。,2,、,訴訟費,用,由,被,告,負擔,。,三,、,被告,未,於,言,詞辯,論期,日,到場,，,亦,未,提出,書狀,作何,聲明,或陳述,。,四,、,按,有民法,第, ,1052,條第,1,項以,外,之,重大事,由,，,難以,維持,婚姻,者,，,夫妻,一方得,請求,離婚,；,但,其事,由,應由夫,妻一方,負責者,，,僅他,方得,請求,離婚,，,此觀,之民法,第, ,1052,條第,2,項之規定,自明,。,所謂,有,重大事,由,，,難以,維持,婚姻,者,，,係,以,婚姻,是,否已,生破綻,而,無回,復,之,希望,為,其判斷,之,標準,，,而,婚姻,是,否已,生破綻,無回,復,之,希望,，,則應,依客,觀之標準,，,即難,以維持,婚姻,之事實,，,是否,已,達,於,倘處,於,同,一境況,，,任何,人均,將喪,失維持,婚姻,之意,願而定,，,有,最,高法院,95,年度,台,上,字,第,2924,號判,決意旨,可資,參照,。,又,難,以維持,婚姻,之,重大事,由,應由夫,妻,之,一方,負責者,，,僅他,方得,請求,離婚,，,則,於,難,以維持,婚姻,之,重大事,由,，,夫妻,雙方均須,負責時,，,自應,比較,衡量,雙方,之,有,責程度,後,，,僅責任,較,輕,之,一方,，,得,向,責任,較,重,之,他,方請求,離婚,；,如有,責程度,相同,時,，,雙方,即,均,得,請求,離婚,，,始符,公平,之旨,。,而,婚姻,係,以夫,妻之共同,生活,為目,的,，,配偶,應互信,互賴,、,相互,協力,，,以保持,共同,生活,之圓滿,、,安全及,幸福,，,因而夫,妻應,相互尊,重以,增進,情感,和,諧及,誠摯,之,相處,，,此為,維持,婚姻,之,基礎,，,若此,基礎,不,復,存,在,，,致夫,妻無法,共同,生活,，,無,復,合,之,可能者,，,即應,認有,難,以維持,婚姻,之,重大事,由存,在,。,經查,，,原告,主張,兩造,於,民國,91,年,在,美國,公證,結婚定,居美國,，,復,因,被,告父,親生病,，,兩造,返國定,居,，,並,於,93,年,10,月,30,日舉行,結婚,儀式,及,宴客,，,然因,被告,執意爭,取成,為,美國,公民,，,兩造,因,而,自,95,年,開始,分居,迄,今長,達八年,等,情,，,業據,其,提出,兩造,戶籍,謄本,、,電子,郵件,為證,，,復,據,證人,即,原告,之父,張恕,忠證述,綦詳,，,並經,本院,調取,入,出境,資訊連,結作業,查詢,存卷,可稽,，,堪信,原告,之主張,為,真實,。,本院,審酌,兩造,自,95,年,起,即,分居,異國,兩地,，,分居期,間,長,達八年,，,雙方,各,自生活,，,逢,年,過節,未,有,聯,繫,，,近年僅,因離,婚事宜,偶有,聯,繫,，,堪認,兩造間,就,夫,妻應,相互,協力,保持夫,妻共同,生活,之圓滿,、,安全及,幸福,之,婚姻,基礎,已,不存,在,，,客觀,上,依,兩造,目前,狀況,，,任何,人均,將喪,失維持,婚姻,之意,欲,，,足,以構,成難,以維持,婚姻,之,重大事,由,。,而本件,依上,所述,，,認造成,兩造,婚姻,破綻,之,發生,及,加深,，,兩造,均,有,可,歸責事,由,，,且,兩造,之,可歸責,程度,相當,。,是,原告,依民法,第,1052,條第,2,項規定訴,請,判決,離婚,，,依法,即,無不合,，,應予,准許,。,五,、,據,上,論結,，,本件,原告,之訴,為,有理,由,，,依家,事事件,法,第,51,條,、,民事,訴訟法,第,385,條第,1,項,、,第,78,條,，,判決,如主文,。,中, , , , ,華, , , , ,民, , , , ,國, , , ,104, , , , ,年, , , , ,8, , , , , ,月, , , , ,3, , , , , ,日家事,法庭, , ,法, , ,官, , ,薛嘉珩,以,上,正本,係,照,原本,作成,。,如對,本判決,上訴,，,須於判,決送,達,後,20,日內,向,本院,提出,上訴,狀,。,如委任,律師,提起,上,訴者,，,應一,併,繳納,上訴,審裁,判費,。,中, , , , ,華, , , , ,民, , , , ,國, , , ,104, , , , ,年, , , , ,8, , , , , ,月, , , , ,3, , , , , ,日書,記官, , ,張竣,閔\n",
      "(u'\\uff0c', 95),(u' ', 87),(u'\\u3002', 25),(u'\\u4e4b', 25),(u'\\u5a5a\\u59fb', 20),(u'\\u539f\\u544a', 18),(u'\\u3000', 16),(u'\\u88ab', 16),(u'\\u5169\\u9020', 16),(u'\\u5e74', 15),(u'\\u3001', 15),(u'\\u96e2\\u5a5a', 14),(u'\\u7531', 13),(u'\\u65bc', 13),(u'\\u7b2c', 12),(u'\\u6708', 9),(u'\\u5fa9', 8),(u'\\u5728', 8),(u'\\u91cd\\u5927\\u4e8b', 7),(u'\\u800c', 7),(u'\\u544a', 7),(u'\\u8acb\\u6c42', 7),(u'\\u5224\\u6c7a', 6),(u'\\u689d\\u7b2c', 6),(u'\\u6709', 6),(u'\\u88ab\\u544a', 6),(u'\\u70ba', 6),(u'\\u4ee5\\u7dad\\u6301', 6),(u'\\u5373', 6),(u'\\u7f8e\\u570b', 5),(u'\\u7121', 5),(u'\\u4e0a', 5),(u'\\u65e5', 5),(u'\\u8fa6\\u7406', 5),(u'\\u751f\\u6d3b', 5),(u'\\u56e0', 5),(u'\\u672a', 4),(u'104', 4),(u'95', 4),(u'\\u4ee5', 4),(u'1052', 4),(u'1', 4),(u'\\u5df2', 4),(u'\\u8acb', 4),(u'\\u96e3', 4),(u'\\u5206\\u5c45', 4),(u'2', 4),(u'\\u4fc2', 4),(u'\\u53ca', 4),(u'\\u672c\\u9662', 4),(u'\\u63d0\\u51fa', 4),(u'\\u4ea6', 4),(u'\\uff1a', 3),(u'\\u5176', 3),(u'\\u8207', 3),(u'\\u662f', 3),(u';', 3),(u'\\u9054\\u516b\\u5e74', 3),(u'\\u6c11\\u570b', 3),(u'20', 3),(u'7', 3),(u'\\u96e3\\u4ee5', 3),(u'\\u6cd5', 3),(u'10', 3),(u'\\u90f5\\u4ef6', 3),(u'\\u4e0a\\u8a34', 3),(u'\\u57fa\\u790e', 3),(u'\\u7d50\\u675f', 3),(u'3', 3),(u'\\u7dad\\u6301', 3),(u'\\u5e78\\u798f', 3),(u'\\u5f97', 3),(u'\\u5411', 3),(u'\\u8a34\\u8a1f\\u6cd5', 3),(u'\\u5747', 3),(u'\\u8981\\u6c42', 3),(u'\\u81ea', 3),(u'\\u81fa', 3),(u'\\uff1b', 3),(u'\\u96d9\\u65b9', 3),(u'\\u5408', 2),(u'\\u53d6\\u6210', 2),(u'\\u5e0c\\u671b', 2),(u'\\u76f8\\u4e92', 2),(u'\\u7d50\\u5a5a\\u5b9a', 2),(u'30', 2),(u'\\u5e74\\u5ea6', 2),(u'\\u5426\\u5df2', 2),(u'\\u9593', 2),(u'\\u7528', 2),(u'\\u8ca0\\u64d4', 2),(u'6', 2),(u'\\u516c\\u6c11', 2),(u'91', 2),(u'93', 2),(u'\\u6c11', 2),(u'\\u544a\\u96e2\\u5a5a', 2),(u'\\u81ea\\u751f\\u6d3b', 2),(u'\\u7d50\\u5a5a', 2),(u'\\u59bb\\u61c9', 2),(u'\\u8fc4', 2),(u'\\u4e4b\\u5713\\u6eff', 2),(u'\\u4f7f', 2),(u'\\u8a00', 2),(u'\\u5404', 2),(u'\\u8ad6\\u671f', 2),(u'\\u7230', 2),(u'\\u5c45\\u7f8e\\u570b', 2),(u'\\u544a\\u7236', 2),(u'\\u5230\\u5834', 2),(u'\\u7121\\u56de', 2),(u'\\u689d', 2),(u'\\u9022', 2),(u'\\u9805\\u4e4b\\u898f\\u5b9a', 2),(u'\\u5206\\u5c45\\u671f', 2),(u'\\u96fb\\u5b50', 2),(u'\\u8f03', 2),(u'\\u751f\\u7834\\u7dbb', 2),(u'\\u5b89\\u5168\\u53ca', 2),(u'\\u5c45', 2),(u'\\u61c9\\u7531\\u592b', 2),(u'\\u64da', 2),(u'\\u4e92\\u52d5', 2),(u'\\u5100\\u5f0f', 2),(u'\\u4f9d', 2),(u'\\u4e4b\\u610f', 2),(u'8', 2),(u'\\u592b\\u59bb', 2),(u'\\u904e\\u7bc0', 2),(u'\\u4f9d\\u7167', 2),(u'385', 2),(u'\\u83ef', 2),(u'\\u4eba\\u5747', 2),(u'\\u5f8c', 2),(u'\\u89aa\\u751f\\u75c5', 2),(u'\\u4e2d', 2),(u'\\u5c31', 2),(u'\\u8a34\\u8a1f\\u8cbb', 2),(u'\\u516c\\u8b49', 2),(u'\\u958b\\u59cb', 2),(u'\\u8a5e\\u8faf', 2),(u'\\u4f46', 2),(u'\\u8cac\\u7a0b\\u5ea6', 2),(u'\\u9054', 2),(u'\\u60df', 2),(u'\\u4e00\\u65b9', 2),(u'\\u5354\\u529b', 2),(u'51', 2),(u'\\u5931\\u7dad\\u6301', 2),(u'\\u6309', 2),(u'\\u4eca\\u9577', 2),(u'\\u5171\\u540c', 2),(u'\\u806f', 2),(u'\\u4f9d\\u6c11\\u6cd5', 2),(u'\\u8ca0\\u8cac\\u8005', 2),(u'\\u7e6b', 2),(u'\\u5c07\\u55aa', 2),(u'\\u7531\\u5b58', 2),(u'\\u544a\\u5747', 2),(u'\\u4e26', 2),(u'\\u4efb\\u4f55', 2),(u'\\u65b9\\u5f97', 2),(u'\\u8005', 2),(u'\\u570b', 2),(u'\\u8faf\\u8ad6', 2),(u'\\u4e8b\\u4e8b\\u4ef6', 2),(u'\\u57f7\\u610f\\u722d', 2),(u'\\u50c5\\u4ed6', 2),(u'\\u9577', 2),(u'\\u60c5\\u611f', 1),(u'\\u4e14', 1),(u'\\u5916', 1),(u'\\u8cd3\\u5ba2', 1),(u'\\u901a\\u77e5', 1),(u'\\u56e0\\u800c\\u592b', 1),(u'\\u53ef\\u7a3d', 1),(u'\\u9867\\u8cac\\u4efb', 1),(u'\\u610f\\u9858', 1),(u'\\u4f5c\\u4f55', 1),(u'\\u8ad6\\u7d50', 1),(u'\\u6838\\u7121\\u6c11\\u4e8b', 1),(u'\\u5982\\u5c0d', 1),(u'\\u7a69\\u5b9a', 1),(u'\\u65e9', 1),(u'\\u7d50\\u4f5c\\u696d', 1),(u'\\u7576\\u4e8b', 1),(u'\\u610f\\u7fa9\\u76e1\\u5931', 1),(u'\\u6c11\\u4e8b', 1),(u'\\u7684', 1),(u'\\u5be6\\u4ea1', 1),(u'\\u8f15', 1),(u'\\u4e94', 1),(u'\\u7063\\u5df2', 1),(u'\\u6cc1\\u5169\\u9020', 1),(u'\\u62d2\\u7d55', 1),(u'\\u8ca0\\u8cac\\u6642', 1),(u'\\u4fdd\\u6301\\u592b', 1),(u'\\u582a\\u4fe1', 1),(u'\\u7b49', 1),(u'\\u540d\\u5b58', 1),(u'\\u76f8\\u8655', 1),(u'\\u7167\\u5bb6', 1),(u'\\u7d93\\u5408\\u6cd5', 1),(u'\\u5247', 1),(u'\\u4e4b\\u65e8', 1),(u'\\u771f\\u5be6', 1),(u'103', 1),(u'\\u53ca\\u7406', 1),(u'101', 1),(u'\\u544a\\u4e0d\\u7d66', 1),(u'\\u63d0\\u4f9b', 1),(u'\\u4e03\\u5ea6', 1),(u'\\u6b64\\u89c0', 1),(u'\\u91cd\\u64d4', 1),(u'\\u7121\\u6cd5', 1),(u'\\u59bb\\u4e00\\u65b9', 1),(u'\\u4e88\\u660e\\u78ba', 1),(u'\\u4e00\\u65b9\\u5f97', 1),(u'\\u7da6\\u8a73', 1),(u'\\u4e8b\\u5be6', 1),(u'\\u6709\\u6c11\\u6cd5', 1),(u'1040803', 1),(u'\\u8db3', 1),(u'\\u6b32', 1),(u'\\u59bb', 1),(u'\\u696d\\u64da', 1),(u'\\u751a\\u81f3', 1),(u'\\u4f9d\\u6cd5', 1),(u'\\u6b63\\u672c', 1),(u'\\u5177\\u7a7a\\u660e', 1),(u'\\u50c5\\u8cac\\u4efb', 1),(u'94', 1),(u'\\u55e3', 1),(u'\\u767c\\u751f', 1),(u'\\u582a\\u8a8d', 1),(u'\\u8d77\\u8a34', 1),(u'\\u6b64\\u70ba', 1),(u'\\u5206\\u5c45\\u516b\\u5e74', 1),(u'\\u6bd4\\u8f03', 1),(u'\\u986f\\u6709', 1),(u'\\u4e26\\u8072\\u660e', 1),(u'\\u722d\\u53d6', 1),(u'\\u4ee5\\u4fdd\\u6301', 1),(u'\\u9858\\u800c\\u5b9a', 1),(u'\\u6a19\\u6e96', 1),(u'\\u8a34\\u8005', 1),(u'\\u8abf\\u53d6', 1),(u'\\u592b', 1),(u'\\u914d\\u5408', 1),(u'\\u4eba', 1),(u'\\u9808\\u65bc\\u5224', 1),(u'\\u524d', 1),(u'\\u5224\\u8cbb', 1),(u'\\u5b57', 1),(u'\\u5a5a\\u5b57', 1),(u'\\u63d0\\u8d77', 1),(u'\\u65e5\\u8209\\u884c', 1),(u'\\u8cac\\u4efb', 1),(u'\\u7b49\\u8a9e', 1),(u'\\u964c\\u8def', 1),(u'\\u5982\\u4e0b', 1),(u'\\u75c5\\u901d', 1),(u'\\u52a0\\u6df1', 1),(u'\\u7d42\\u7d50', 1),(u'\\u7d93\\u67e5', 1),(u'24', 1),(u'\\u65b9\\u8acb\\u6c42', 1),(u'\\u4e00\\u9020', 1),(u'\\u7834\\u7dbb', 1),(u'\\u5fc3\\u7070\\u610f', 1),(u'\\u539f\\u672c', 1),(u'\\u9ad8\\u6cd5\\u9662', 1),(u'\\u4eba\\u9593', 1),(u'\\u56e0\\u96e2', 1),(u'\\u6240', 1),(u'\\u91cd', 1),(u'\\u4e00\\u4eba\\u627f\\u64d4', 1),(u'\\u5176\\u5224\\u65b7', 1),(u'\\u5c45\\u72c0\\u6cc1', 1),(u'\\u5982\\u4e3b\\u6587', 1),(u'\\u7368\\u524d', 1),(u'\\u865f\\u5224', 1),(u'\\u4e92\\u8cf4', 1),(u'\\u8a8d\\u9020\\u6210', 1),(u'\\u7236\\u89aa', 1),(u'\\u4e00\\u5883\\u6cc1', 1),(u'\\u8209\\u884c', 1),(u'\\u4e4b\\u4e8b\\u5be6', 1),(u'\\u591a\\u5e74', 1),(u'\\u91cd\\u4ee5', 1),(u'\\u72c0', 1),(u'\\ue8cc', 1),(u'\\u5373\\u96e3', 1),(u'\\u671f\\u5206\\u5c40', 1),(u'\\u7121\\u610f\\u9858', 1),(u'\\u70ba\\u8b49', 1),(u'\\u76f8\\u540c', 1),(u'\\u53e6', 1),(u'\\u5076\\u6709', 1),(u'\\u800c\\u672c\\u4ef6', 1),(u'\\u4ee5\\u96fb\\u5b50', 1),(u'\\u9805\\u4ee5', 1),(u'\\u53ef\\u80fd', 1),(u'\\u81ea\\u61c9', 1),(u'\\u597d', 1),(u'\\u5206', 1),(u'\\u65e5\\u5167', 1),(u'\\u5982\\u6709', 1),(u'\\u89aa\\u7167', 1),(u'\\u59bb\\u7121\\u6cd5', 1),(u'\\u516c\\u5e73', 1),(u'\\u51b7', 1),(u'\\u8ae7\\u53ca', 1),(u'\\u65e5\\u5bb6\\u4e8b', 1),(u'\\u4e4b\\u6c11\\u6cd5', 1),(u'\\u5373\\u61c9', 1),(u'19', 1),(u'\\u9662\\u6c11\\u4e8b', 1),(u'\\u96d9\\u65b9\\u5747\\u9808', 1),(u'\\u9805\\u524d', 1),(u'\\u4e09', 1),(u'\\u4e0a\\u5217', 1),(u'\\u8aa0\\u646f', 1),(u'\\u544a\\u6bcd', 1),(u'\\u9594', 1),(u'\\u671f\\u5206', 1),(u'\\u76f8\\u7576', 1),(u'\\u4f9d\\u4e0a', 1),(u'\\u6216\\u9673\\u8ff0', 1),(u'\\u5f35\\u7ae3', 1),(u'\\u865f\\u539f', 1),(u'\\u5f8b\\u5e2b', 1),(u'\\u5e74\\u9593', 1),(u'\\u7e73\\u7d0d', 1),(u'\\u8a18\\u5b98', 1),(u'\\u5247\\u61c9', 1),(u'78', 1),(u'\\u96d9\\u89aa', 1),(u'\\u7167', 1),(u'\\u53f0', 1),(u'\\u689d\\u6e96', 1),(u'\\u7121\\u4e0d\\u5408', 1),(u'\\u4e8b\\u4ef6', 1),(u'\\u7570\\u570b', 1),(u'\\u9ad8\\u9e97', 1),(u'\\u5018\\u8655', 1),(u'\\u4ef0\\u8cf4', 1),(u'\\u540c\\u610f', 1),(u'\\u66f8\\u72c0', 1),(u'\\u6bb5', 1),(u'\\u65b9\\u6cd5', 1),(u'\\u5a5a\\u59fb\\u95dc', 1),(u'\\u61c9', 1),(u'\\u56de\\u7b54', 1),(u'\\u67e5\\u8a62', 1),(u'\\u589e\\u9032', 1),(u'\\u5176\\u4e8b', 1),(u'\\u672c\\u4ef6', 1),(u'\\u9805\\u898f\\u5b9a\\u8a34', 1),(u'\\u72c0\\u6cc1', 1),(u'\\u5169\\u9020\\u9593', 1),(u'\\u65e5\\u4ee5', 1),(u'\\u4e8c', 1),(u'\\u5f92', 1),(u'\\u65e5\\u66f8', 1),(u'\\u7136\\u56e0', 1),(u'\\u60f3\\u6cd5', 1),(u'\\u5a5a\\u4e8b\\u5b9c', 1),(u'\\u6210\\u96e3', 1),(u'\\u4f9d\\u5bb6', 1),(u'\\u6240\\u5217', 1),(u'386', 1),(u'\\u7d93\\u6fdf', 1),(u'\\u8072\\u660e', 1),(u'\\u7063', 1),(u'\\u53ea', 1),(u'\\u6c7a\\u9001', 1),(u'\\u4e4b\\u4e3b\\u5f35', 1),(u'\\u6539\\u5584\\u9577', 1),(u'\\u53ef\\u80fd\\u8005', 1),(u'\\u4f5c\\u6210', 1),(u'\\u5fe0\\u8b49\\u8ff0', 1),(u'\\u7121\\u592b', 1),(u'\\u6587\\u51c6', 1),(u'\\u8993', 1),(u'\\u9805', 1),(u'100', 1),(u'\\u57f7\\u610f', 1),(u'\\u8cc7\\u8a0a\\u9023', 1),(u'\\u4e3b\\u5f35\\u7565', 1),(u'\\u7f8e\\u570b\\u5f8b', 1),(u'\\u52c9\\u5f37', 1),(u'\\u5de5\\u4f5c', 1),(u'\\u81ea\\u660e', 1),(u'\\u61c9\\u4e92\\u4fe1', 1),(u'\\u6642', 1),(u'\\u689d\\u5404\\u6b3e', 1),(u'\\u4f9d\\u5ba2', 1),(u'\\u4e4b\\u8072', 1),(u'\\u8fd1\\u5e74\\u50c5', 1),(u'\\u958b\\u92b7', 1),(u'\\u65e5\\u6f38', 1),(u'164', 1),(u'\\u544a\\u653e\\u68c4', 1),(u'\\u53ef', 1),(u'\\u898f\\u5b9a', 1),(u'\\u60df\\u5169\\u9020', 1),(u'\\u4e0d', 1),(u'\\u516c\\u6c11\\u8eab', 1),(u'\\u672c\\u5224\\u6c7a', 1),(u'\\u5f80\\u7f8e\\u570b', 1),(u'\\u5f62\\u540c', 1),(u'\\u5bb4', 1),(u'\\u4f75', 1),(u'\\u5bb4\\u5ba2', 1),(u'\\u6240\\u8b02', 1),(u'\\u6b78\\u8cac\\u4e8b', 1),(u'\\u5169\\u5730', 1),(u'\\u60c5\\u6cc1', 1),(u'\\u914d\\u5076', 1),(u'\\u51c6\\u8a31', 1),(u'\\u7e41\\u7463', 1),(u'\\u56de\\u570b\\u5b9a', 1),(u'\\u53c3\\u7167', 1),(u'\\u5b98', 1),(u'\\u544a\\u55ae', 1),(u'\\u81f4\\u592b', 1),(u'\\u4e00', 1),(u'\\u570b\\u5167', 1),(u'\\u6c7a\\u610f\\u65e8', 1),(u'\\u53ea\\u5f97\\u8a34', 1),(u'\\u540c', 1),(u'\\u56db', 1),(u'\\u76ee\\u524d', 1),(u'\\u8b49\\u4eba', 1),(u'\\u8861\\u91cf', 1),(u'\\u5f35\\u6055', 1),(u'\\u660e\\u4e4b\\u7a0b\\u5e8f', 1),(u'\\u5be9\\u914c', 1),(u'\\u4ee5\\u592b', 1),(u'\\u8fd1', 1),(u'\\u82e5\\u6b64', 1),(u'\\u5f35\\u9707', 1),(u'\\u5e2b\\u8aaa', 1),(u'\\u51c6\\u539f\\u544a', 1),(u'\\u60c5\\u5f62', 1),(u'\\u937e', 1),(u'\\u6708\\u9593', 1),(u'\\u548c', 1),(u'\\u53ca\\u5bb6\\u5ead', 1),(u'\\u4ee5\\u69cb', 1),(u'\\u4e3b', 1),(u'\\u4e0d\\u5b58', 1),(u'\\u7a0b\\u5ea6', 1),(u'\\u53ef\\u8cc7', 1),(u'\\u59bb\\u4e4b\\u5be6', 1),(u'\\u56de\\u61c9', 1),(u'\\u59bb\\u4e4b\\u5171\\u540c', 1),(u'\\u65e2', 1),(u'\\u5165', 1),(u'\\u7a0b\\u5e8f', 1),(u'\\u7167\\u6599', 1),(u'\\u7528\\u6c11\\u4e8b', 1),(u'\\u6700', 1),(u'2924', 1),(u'\\u5982\\u59d4\\u4efb', 1),(u'\\u59bb\\u5171\\u540c', 1),(u'\\u4e4b\\u7236', 1),(u'\\u4e4b\\u8a34', 1),(u'\\u61c9\\u4e00', 1),(u'\\u65e5\\u8d77', 1),(u'\\u8b04\\u672c', 1),(u'\\u7121\\u7dad\\u6301', 1),(u'\\u6240\\u8ff0', 1),(u'\\u53ef\\u6b78\\u8cac', 1),(u'\\u70ba\\u76ee', 1),(u'\\u60c5', 1),(u'\\u5100\\u8a34', 1),(u'\\u6301\\u7e8c', 1),(u'\\u5b58', 1),(u'\\u6cd5\\u9662', 1),(u'\\u4e26\\u7d93', 1),(u'\\u8a8d\\u6709', 1),(u'\\u6236\\u7c4d', 1),(u'\\u89c0\\u4e4b\\u6a19\\u6e96', 1),(u'\\u5b58\\u5377', 1),(u'\\u59cb\\u7b26', 1),(u'\\u7686', 1),(u'\\u5354\\u8b70', 1),(u'\\u6bcd\\u89aa', 1),(u'\\u6cd5\\u5ead', 1),(u'\\u61c9\\u4e88', 1),(u'10405164', 1),(u'\\u859b\\u5609\\u73e9', 1),(u'\\u5ba2\\u89c0', 1),(u'\\u5317\\u5730', 1),(u'\\u5be9\\u88c1', 1),(u'\\u8fd4\\u570b\\u5b9a', 1),(u'\\u8d77', 1),(u'\\u4e3b\\u5f35', 1),(u'\\u53c8', 1),(u'\\u4ed6', 1),(u'\\u6709\\u7406', 1),(u'\\u65e5\\u8a00\\u8a5e', 1),(u'\\u5b9b\\u84c9\\u5f8b\\u5e2b', 1),(u'\\u76f8\\u4e92\\u5c0a', 1),(u'\\u662f\\u5426', 1),(u'\\u591a\\u6b21', 1),(u'\\u51fa\\u5883', 1),(u'\\u8a1f\\u4ee3\\u7406', 1)\n",
      "['__add__', '__class__', '__contains__', '__delattr__', '__doc__', '__eq__', '__format__', '__ge__', '__getattribute__', '__getitem__', '__getnewargs__', '__getslice__', '__gt__', '__hash__', '__init__', '__le__', '__len__', '__lt__', '__mod__', '__mul__', '__ne__', '__new__', '__reduce__', '__reduce_ex__', '__repr__', '__rmod__', '__rmul__', '__setattr__', '__sizeof__', '__str__', '__subclasshook__', '_formatter_field_name_split', '_formatter_parser', 'capitalize', 'center', 'count', 'decode', 'encode', 'endswith', 'expandtabs', 'find', 'format', 'index', 'isalnum', 'isalpha', 'isdigit', 'islower', 'isspace', 'istitle', 'isupper', 'join', 'ljust', 'lower', 'lstrip', 'partition', 'replace', 'rfind', 'rindex', 'rjust', 'rpartition', 'rsplit', 'rstrip', 'split', 'splitlines', 'startswith', 'strip', 'swapcase', 'title', 'translate', 'upper', 'zfill']\n"
     ]
    }
   ],
   "source": [
    "\n",
    "import jieba\n",
    "import jieba.posseg as pseg\n",
    "import operator\n",
    "\n",
    "#list直接印列表中文部分會印出unicode編碼，必須用迴圈印才能印出正常編碼，因為list類別python預設轉為unicode\n",
    "#方便程式內溝通\n",
    "filename_2=['sample1_10405164', 'sample1_10405129', 'sample1_10405119', 'sample1_1040568', 'sample1_1040563', 'sample1_1040596', 'sample1_1040595', 'sample1_1040581', 'sample1_1040530', 'sample1_10305460', 'sample1_104053', 'sample1_1040565', 'sample1_10305453', 'sample1_10405168', 'sample1_10405162', 'sample1_1040582', 'sample1_1040571', 'sample1_1040570', 'sample1_1040552']\n",
    "fileword=\"\"\n",
    "dic = {}\n",
    "result = []\n",
    "jieba.set_dictionary(\"E:\\iii\\jieba\\dict.txt.big_3.txt\")\n",
    "\n",
    "#for obj in filename:\n",
    "    #str_convert = ''.join(obj.encode('utf-8'))\n",
    "    #file_list = open('C:\\\\Users\\\\BigData\\\\Desktop\\\\DataSet\\\\'+ obj.decode('utf8'), 'r')\n",
    "    #file_list_2= open('C:\\\\Users\\\\BigData\\\\Desktop\\\\DataSet\\\\'+ obj.decode('utf8')+'_2', 'w')\n",
    "file_list = open('E:\\\\iii\\\\DataSet\\\\'+ filename_2[0]+'.txt', 'r')\n",
    "file_list_2= open('E:\\\\iii\\\\DataSet\\\\'+ filename_2[0]+'.txt'+'_2', 'w')\n",
    "#file_list = open('C:\\\\Users\\\\BigData\\\\Desktop\\\\DataSet\\\\sample103,婚,337.txt'.decode('utf8'), 'r')\n",
    "#file_list_2= open('C:\\\\Users\\\\BigData\\\\Desktop\\\\DataSet\\\\sample103,婚,337_2.txt'.decode('utf8'), 'w')\n",
    "\n",
    "for line in file_list.readlines():\n",
    "    line_s=line.strip()\n",
    "    result.append(line_s)\n",
    "file_list_2.write(\", \".join(result))\n",
    "file_list_2.close()\n",
    "file_list.close()\n",
    "#result2 = \"\".join(result)\n",
    "result2 = \"10405164;1040803;離婚;臺灣臺北地方法院民事判決　　　　　　　104年度婚字第164號原　　　告　張震儀訴訟代理人　鍾宛蓉律師被　　　告　高麗上列當事人間請求離婚事件，本院於民國104年7月20日言詞辯論終結，判決如下：主  文准原告與被告離婚。訴訟費用由被告負擔。事實及理由一、被告經合法通知未於言詞辯論期日到場，核無民事訴訟法第386 條各款所列情形，按照家事事件法第51條準用民事訴訟法第385條第1項前段規定，爰依原告之聲請，由其一造辯論而為判決。二、原告起訴主張略以：兩造前於民國91年在美國公證結婚定居美國，復因被告父親生病，兩造即回國定居，就近照料。並於93年10月30日在國內舉行結婚儀式宴請賓客，嗣被告之父親於94年間病逝，被告執意爭取成為美國公民，而原告因在臺灣已有穩定工作，只好勉強同意被告單獨前往美國，兩造即自95年開始分居迄今長達八年，兩造分居期間，原告雙親及被告母親照顧責任及家庭經濟重擔皆由原告一人承擔，被告均仰賴原告及母親提供生活開銷。原告多次要求被告放棄爭取美國公民身分，結束長期分局情況，但被告不給予明確回答，無意願改善長期分居狀況，使原告日漸心灰意冷。100年6月間原告向被告提出結束婚姻之想法，被告亦於101年6月20日、7月10日、7月19日以電子郵件要求與原告辦理離婚，惟被告拒絕依照美國律師說明之程序辦理離婚，執意依照其所要求之繁瑣離婚程序，原告無法配合辦理，兩造因而難以協議辦理離婚。惟兩造持續分居各自生活，甚至逢年過節亦無互動，婚姻關係早已名存實亡。原告於103年3月24日起七度以電子郵件請求被告辦理離婚，惟被告均無回應，只得訴請法院判決結束徒具空明之婚姻，使兩造得以另覓幸福。兩造既已分居八年，多年無夫妻之實，亦無互動，形同陌路，婚姻之意義盡失；況兩造均無維持婚姻意願，應無復合之可能，顯有難以維持婚姻之重大事由存在，爰依民法第1052條第2項之規定請求離婚等語。並聲明：1、准原告與被告離婚。2、訴訟費用由被告負擔。三、被告未於言詞辯論期日到場，亦未提出書狀作何聲明或陳述。四、按有民法第 1052條第1項以外之重大事由，難以維持婚姻者，夫妻一方得請求離婚；但其事由應由夫妻一方負責者，僅他方得請求離婚，此觀之民法第 1052條第2項之規定自明。所謂有重大事由，難以維持婚姻者，係以婚姻是否已生破綻而無回復之希望為其判斷之標準，而婚姻是否已生破綻無回復之希望，則應依客觀之標準，即難以維持婚姻之事實，是否已達於倘處於同一境況，任何人均將喪失維持婚姻之意願而定，有最高法院95年度台上字第2924號判決意旨可資參照。又難以維持婚姻之重大事由應由夫妻之一方負責者，僅他方得請求離婚，則於難以維持婚姻之重大事由，夫妻雙方均須負責時，自應比較衡量雙方之有責程度後，僅責任較輕之一方，得向責任較重之他方請求離婚；如有責程度相同時，雙方即均得請求離婚，始符公平之旨。而婚姻係以夫妻之共同生活為目的，配偶應互信互賴、相互協力，以保持共同生活之圓滿、安全及幸福，因而夫妻應相互尊重以增進情感和諧及誠摯之相處，此為維持婚姻之基礎，若此基礎不復存在，致夫妻無法共同生活，無復合之可能者，即應認有難以維持婚姻之重大事由存在。經查，原告主張兩造於民國91年在美國公證結婚定居美國，復因被告父親生病，兩造返國定居，並於93年10月30日舉行結婚儀式及宴客，然因被告執意爭取成為美國公民，兩造因而自95年開始分居迄今長達八年等情，業據其提出兩造戶籍謄本、電子郵件為證，復據證人即原告之父張恕忠證述綦詳，並經本院調取入出境資訊連結作業查詢存卷可稽，堪信原告之主張為真實。本院審酌兩造自95年起即分居異國兩地，分居期間長達八年，雙方各自生活，逢年過節未有聯繫，近年僅因離婚事宜偶有聯繫，堪認兩造間就夫妻應相互協力保持夫妻共同生活之圓滿、安全及幸福之婚姻基礎已不存在，客觀上依兩造目前狀況，任何人均將喪失維持婚姻之意欲，足以構成難以維持婚姻之重大事由。而本件依上所述，認造成兩造婚姻破綻之發生及加深，兩造均有可歸責事由，且兩造之可歸責程度相當。是原告依民法第1052條第2項規定訴請判決離婚，依法即無不合，應予准許。五、據上論結，本件原告之訴為有理由，依家事事件法第51條、民事訴訟法第385條第1項、第78條，判決如主文。中    華    民    國   104    年    8     月    3     日家事法庭  法  官  薛嘉珩以上正本係照原本作成。如對本判決上訴，須於判決送達後20日內向本院提出上訴狀。如委任律師提起上訴者，應一併繳納上訴審裁判費。中    華    民    國   104    年    8     月    3     日書記官  張竣閔\"\n",
    "seg_list = jieba.cut_for_search(result2) \n",
    "\n",
    "print(\",\".join(seg_list))\n",
    "\n",
    "seg_list = jieba.cut(result2) \n",
    "'''\n",
    "words = pseg.cut(result2)\n",
    "for word, flag in words:\n",
    "    print('%s %s' % (word, flag))  #列印斷字與判斷出的詞性\n",
    "'''\n",
    "for ele in list(seg_list):\n",
    "    if ele not in dic:\n",
    "        dic[ele] = 1\n",
    "    else:\n",
    "        dic[ele] = dic[ele] + 1\n",
    "\n",
    "sorted_x = sorted(dic.items(), key=operator.itemgetter(1), reverse=True) #type : list\n",
    "print (','.join(str(v) for v in sorted_x)).decode('utf8')\n",
    "print dir(','.join(str(v) for v in sorted_x))\n",
    "\n",
    "'''\n",
    "for ele in sorted_x[0:50]:\n",
    "    print ele\n",
    "'''\n",
    "\n",
    "f = open('E:\\\\iii\\\\DataSet\\\\'+ filename_2[0]+'_TermFeq'+'.txt','w')\n",
    "for key,value in sorted_x:\n",
    "    con = key.encode('utf8')+','+str(value)+'\\n'\n",
    "    f.write(con)\n",
    "f.close()\n"
   ]
  },
  {
   "cell_type": "code",
   "execution_count": 23,
   "metadata": {
    "collapsed": false,
    "scrolled": true
   },
   "outputs": [
    {
     "name": "stdout",
     "output_type": "stream",
     "text": [
      "維持,夫妻,美國,難以,分居,生活,定居,民法,104,95,1052,八年,言詞辯論,20,破綻,父親,幸福,家事,10,要求\n"
     ]
    }
   ],
   "source": [
    "import jieba.analyse\n",
    "jieba.analyse.set_idf_path(\"E:\\iii\\jieba\\idf.txt.big\") # file_name\n",
    "jieba.analyse.set_stop_words(\"E:\\iii\\jieba\\stop_words.txt\") # file_name\n",
    "keyword = jieba.analyse.extract_tags(result2, topK=20, withWeight=False, allowPOS=())  #此為list\n",
    "print \",\".join(keyword)"
   ]
  },
  {
   "cell_type": "code",
   "execution_count": 14,
   "metadata": {
    "collapsed": false
   },
   "outputs": [
    {
     "name": "stdout",
     "output_type": "stream",
     "text": [
      "我,喜欢,吃,土豆,土豆,是,个,百,搭,的,东西,我,不,喜欢,今天,雾,霾,的,北京,costumer, ,service,\n",
      "1\n"
     ]
    }
   ],
   "source": [
    "import jieba\n",
    "sentences = [\"我喜欢吃土豆\",\"土豆是个百搭的东西\",\"我不喜欢今天雾霾的北京\", 'costumer service']\n",
    "# jieba.suggest_freq(‘百搭‘, True)\n",
    "words = [list(jieba.cut(doc)) for doc in sentences]\n",
    "#print(words)\n",
    "sen = \"\"\n",
    "for ele in words:\n",
    "    for ele2 in ele:\n",
    "        sen = sen + ele2 + ','\n",
    "print sen\n",
    "#print(', '.join(words))\n",
    "print jieba.suggest_freq('雾霾', True)"
   ]
  },
  {
   "cell_type": "code",
   "execution_count": 43,
   "metadata": {
    "collapsed": false
   },
   "outputs": [
    {
     "name": "stdout",
     "output_type": "stream",
     "text": [
      "土豆\n"
     ]
    }
   ],
   "source": [
    "import jieba.analyse\n",
    "sentence=\"我喜欢吃土豆,土豆是个百搭的东西,我不喜欢今天雾霾的北京\"\n",
    "tup=jieba.analyse.extract_tags(sentence, topK=1, withWeight=False, allowPOS=())\n",
    "s = \"\".join(tup)\n",
    "print(s)"
   ]
  },
  {
   "cell_type": "code",
   "execution_count": 5,
   "metadata": {
    "collapsed": false
   },
   "outputs": [
    {
     "name": "stdout",
     "output_type": "stream",
     "text": [
      "百度一下，你就知道\n"
     ]
    }
   ],
   "source": [
    "# -*- coding: utf-8 -*-\n",
    "'''\n",
    "from selenium import webdriver\n",
    "from selenium.common.exceptions import NoSuchElementException\n",
    "from selenium.webdriver.common.keys import Keys\n",
    "import time\n",
    "import os\n",
    "\n",
    "#browser = webdriver.Firefox()\n",
    "#browser = webdriver.Ie('IEDriverServer.exe')\n",
    "browser = webdriver.Chrome(executable_path=r'C:\\Python27\\WebDriver\\chromedriver.exe')\n",
    "browser.get('http://www.google.com.tw/')\n",
    "elem = browser.find_element_by_xpath(\"//input[@id='lst-ib']\")\n",
    "elem.send_keys(u'艾小克' + Keys.RETURN)\n",
    "time.sleep(1)\n",
    "links = browser.find_elements_by_xpath(\"//h3[@class='r']/a\")\n",
    "assert links[0].text == u'瓶水相逢- 艾小克', 'not match'   ##有錯\n",
    "browser.close()'''\n",
    "\n",
    "from selenium import webdriver\n",
    "\n",
    "driver = webdriver.Chrome(executable_path=r'C:\\Python27\\WebDriver\\chromedriver.exe')\n",
    "#driver.get('http://fyjud.lawbank.com.tw/listcontent5.aspx', headers=header)\n",
    "#browser.find_element_by_id(\"su\").click()\n",
    "driver.get('http://www.baidu.com/')\n",
    "print driver.title  # 把页面title 打印出来\n",
    "driver.quit()"
   ]
  },
  {
   "cell_type": "code",
   "execution_count": 25,
   "metadata": {
    "collapsed": false
   },
   "outputs": [
    {
     "data": {
      "text/plain": [
       "u'C:\\\\Users\\\\BigData'"
      ]
     },
     "execution_count": 25,
     "metadata": {},
     "output_type": "execute_result"
    }
   ],
   "source": [
    "pwd"
   ]
  },
  {
   "cell_type": "code",
   "execution_count": 9,
   "metadata": {
    "collapsed": false
   },
   "outputs": [
    {
     "name": "stdout",
     "output_type": "stream",
     "text": [
      "['_Workbook__active_sheet', '_Workbook__all_fonts_num_formats_xf_styles_rec', '_Workbook__all_links_rec', '_Workbook__backup_on_save', '_Workbook__backup_rec', '_Workbook__bof_rec', '_Workbook__bookbool_rec', '_Workbook__boundsheets_rec', '_Workbook__codepage_rec', '_Workbook__country_code', '_Workbook__country_rec', '_Workbook__custom_palette_b8', '_Workbook__datemode_rec', '_Workbook__dates_1904', '_Workbook__dsf_rec', '_Workbook__eof_rec', '_Workbook__ext_sst_rec', '_Workbook__first_tab_index', '_Workbook__fngroupcount_rec', '_Workbook__height_twips', '_Workbook__hide_obj_rec', '_Workbook__hpos_twips', '_Workbook__hscroll_visible', '_Workbook__intf_end_rec', '_Workbook__intf_hdr_rec', '_Workbook__intf_mms_rec', '_Workbook__obj_protect', '_Workbook__obj_protect_rec', '_Workbook__owner', '_Workbook__palette_rec', '_Workbook__password_rec', '_Workbook__precision_rec', '_Workbook__prot4rev_pass_rec', '_Workbook__prot4rev_rec', '_Workbook__protect', '_Workbook__protect_rec', '_Workbook__refresh_all_rec', '_Workbook__selected_tabs', '_Workbook__sheet_refs', '_Workbook__sst', '_Workbook__sst_rec', '_Workbook__styles', '_Workbook__tab_width_twips', '_Workbook__tabid_rec', '_Workbook__tabs_visible', '_Workbook__use_cell_values', '_Workbook__useselfs_rec', '_Workbook__vpos_twips', '_Workbook__vscroll_visible', '_Workbook__width_twips', '_Workbook__window1_rec', '_Workbook__wnd_hidden', '_Workbook__wnd_mini', '_Workbook__wnd_protect', '_Workbook__wnd_protect_rec', '_Workbook__worksheet_idx_from_name', '_Workbook__worksheets', '_Workbook__write_access_rec', '__class__', '__delattr__', '__dict__', '__doc__', '__format__', '__getattribute__', '__hash__', '__init__', '__module__', '__new__', '__reduce__', '__reduce_ex__', '__repr__', '__setattr__', '__sizeof__', '__str__', '__subclasshook__', '__weakref__', '_get_supbook_index', '_ownbook_supbook_ref', '_ownbook_supbookx', '_supbook_xref', '_xcall_supbook_ref', '_xcall_supbookx', '_xcall_xref', 'active_sheet', 'add_font', 'add_rt', 'add_sheet', 'add_sheet_reference', 'add_str', 'add_style', 'backup_on_save', 'convert_sheetindex', 'country_code', 'dates_1904', 'default_style', 'del_str', 'encoding', 'get_active_sheet', 'get_backup_on_save', 'get_biff_data', 'get_country_code', 'get_dates_1904', 'get_default_style', 'get_height', 'get_hpos', 'get_hscroll_visible', 'get_obj_protect', 'get_owner', 'get_protect', 'get_sheet', 'get_style_stats', 'get_tab_width', 'get_tabs_visible', 'get_use_cell_values', 'get_vpos', 'get_vscroll_visible', 'get_width', 'get_wnd_mini', 'get_wnd_protect', 'get_wnd_visible', 'height', 'hpos', 'hscroll_visible', 'obj_protect', 'owner', 'protect', 'raise_bad_sheetname', 'rt_index', 'save', 'set_active_sheet', 'set_backup_on_save', 'set_colour_RGB', 'set_country_code', 'set_dates_1904', 'set_height', 'set_hpos', 'set_hscroll_visible', 'set_obj_protect', 'set_owner', 'set_protect', 'set_tab_width', 'set_tabs_visible', 'set_use_cell_values', 'set_vpos', 'set_vscroll_visible', 'set_width', 'set_wnd_mini', 'set_wnd_protect', 'set_wnd_visible', 'setup_ownbook', 'setup_xcall', 'str_index', 'tab_width', 'tabs_visible', 'use_cell_values', 'vpos', 'vscroll_visible', 'width', 'wnd_mini', 'wnd_protect', 'wnd_visible']\n"
     ]
    },
    {
     "data": {
      "text/plain": [
       "\"\\ntable1 = file.add_sheet('sheet name')\\n#table1.write(0,0,'test')\\n\\ndata = xlrd.open_workbook('C:\\\\Users\\\\BigData\\\\demo.xlsx')\\ndata.sheet_names()\\ntable = data.sheets()[0]\\n\\n\\n#nrows = table.nrows\\n#ncols = table.ncols\\n#print nrows,ncols\\n\\nfor i in range(0,30):\\n    col_A = 0\\n    col_B = 1\\n    col_C = 2\\n    row = i / 3\\n    value = table.cell(i,0).value\\n    if i % 3 == 0:\\n        table1.write(row,col_A,value)\\n        #table.put_cell(row, col_C, 1, value, 0)\\n    elif i % 3 == 1:\\n        table1.write(row,col_B,value)\\n        #table.put_cell(row, col_D, 1, value, 0)\\n    else:\\n        table1.write(row,col_C,value)\\n        #table.put_cell(row, col_E, 1, value, 0)\\n\\nfile.save('C:\\\\Users\\\\BigData\\\\demo1.csv')\\n\""
      ]
     },
     "execution_count": 9,
     "metadata": {},
     "output_type": "execute_result"
    }
   ],
   "source": [
    "import xlwt\n",
    "import xlrd\n",
    "\n",
    "file = xlwt.Workbook('C:\\Users\\BigData\\demo1.csv')\n",
    "print dir(file)\n",
    "\n",
    "table1 = file.add_sheet('sheet name')\n",
    "#table1.write(0,0,'test')\n",
    "\n",
    "data = xlrd.open_workbook('C:\\Users\\BigData\\demo.xlsx')\n",
    "data.sheet_names()\n",
    "table = data.sheets()[0]\n",
    "\n",
    "\n",
    "#nrows = table.nrows\n",
    "#ncols = table.ncols\n",
    "#print nrows,ncols\n",
    "\n",
    "for i in range(0,30):\n",
    "    col_A = 0\n",
    "    col_B = 1\n",
    "    col_C = 2\n",
    "    row = i / 3\n",
    "    value = table.cell(i,0).value\n",
    "    if i % 3 == 0:\n",
    "        table1.write(row,col_A,value)\n",
    "        #table.put_cell(row, col_C, 1, value, 0)\n",
    "    elif i % 3 == 1:\n",
    "        table1.write(row,col_B,value)\n",
    "        #table.put_cell(row, col_D, 1, value, 0)\n",
    "    else:\n",
    "        table1.write(row,col_C,value)\n",
    "        #table.put_cell(row, col_E, 1, value, 0)\n",
    "\n",
    "file.save('C:\\Users\\BigData\\demo1.csv')\n"
   ]
  },
  {
   "cell_type": "code",
   "execution_count": null,
   "metadata": {
    "collapsed": true
   },
   "outputs": [],
   "source": []
  }
 ],
 "metadata": {
  "kernelspec": {
   "display_name": "Python 2",
   "language": "python",
   "name": "python2"
  },
  "language_info": {
   "codemirror_mode": {
    "name": "ipython",
    "version": 2
   },
   "file_extension": ".py",
   "mimetype": "text/x-python",
   "name": "python",
   "nbconvert_exporter": "python",
   "pygments_lexer": "ipython2",
   "version": "2.7.10"
  }
 },
 "nbformat": 4,
 "nbformat_minor": 0
}
