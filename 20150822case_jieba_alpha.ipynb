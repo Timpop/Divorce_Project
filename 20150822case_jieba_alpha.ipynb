Jieba
{
 "cells": [
  {
   "cell_type": "code",
   "execution_count": 3,
   "metadata": {
    "collapsed": false
   },
   "outputs": [
    {
     "name": "stdout",
     "output_type": "stream",
     "text": [
      "共 3567 筆 第 1 / 179 頁\n"
     ]
    },
    {
     "ename": "IndexError",
     "evalue": "list index out of range",
     "output_type": "error",
     "traceback": [
      "\u001b[1;31m---------------------------------------------------------------------------\u001b[0m",
      "\u001b[1;31mIndexError\u001b[0m                                Traceback (most recent call last)",
      "\u001b[1;32m<ipython-input-3-b72069acff04>\u001b[0m in \u001b[0;36m<module>\u001b[1;34m()\u001b[0m\n\u001b[0;32m     46\u001b[0m \u001b[1;33m\u001b[0m\u001b[0m\n\u001b[0;32m     47\u001b[0m     \u001b[0mfilenumber\u001b[0m\u001b[1;33m=\u001b[0m\u001b[0mresponse_soup\u001b[0m\u001b[1;33m.\u001b[0m\u001b[0mselect\u001b[0m\u001b[1;33m(\u001b[0m\u001b[1;34m'.Table-List td'\u001b[0m\u001b[1;33m)\u001b[0m\u001b[1;33m[\u001b[0m\u001b[1;36m1\u001b[0m\u001b[1;33m]\u001b[0m\u001b[1;33m.\u001b[0m\u001b[0mtext\u001b[0m\u001b[1;33m\u001b[0m\u001b[0m\n\u001b[1;32m---> 48\u001b[1;33m     \u001b[0mfileid\u001b[0m\u001b[1;33m=\u001b[0m\u001b[0mfilenumber\u001b[0m\u001b[1;33m.\u001b[0m\u001b[0msplit\u001b[0m\u001b[1;33m(\u001b[0m\u001b[1;34m','\u001b[0m\u001b[1;33m)\u001b[0m\u001b[1;33m[\u001b[0m\u001b[1;36m0\u001b[0m\u001b[1;33m]\u001b[0m\u001b[1;33m.\u001b[0m\u001b[0mencode\u001b[0m\u001b[1;33m(\u001b[0m\u001b[1;34m'utf8'\u001b[0m\u001b[1;33m)\u001b[0m\u001b[1;33m+\u001b[0m\u001b[1;34m'05'\u001b[0m\u001b[1;33m+\u001b[0m\u001b[0mfilenumber\u001b[0m\u001b[1;33m.\u001b[0m\u001b[0msplit\u001b[0m\u001b[1;33m(\u001b[0m\u001b[1;34m','\u001b[0m\u001b[1;33m)\u001b[0m\u001b[1;33m[\u001b[0m\u001b[1;36m2\u001b[0m\u001b[1;33m]\u001b[0m\u001b[1;33m.\u001b[0m\u001b[0mencode\u001b[0m\u001b[1;33m(\u001b[0m\u001b[1;34m'utf8'\u001b[0m\u001b[1;33m)\u001b[0m\u001b[1;33m\u001b[0m\u001b[0m\n\u001b[0m\u001b[0;32m     49\u001b[0m     \u001b[0mlocalation\u001b[0m \u001b[1;33m=\u001b[0m \u001b[0msoup\u001b[0m\u001b[1;33m.\u001b[0m\u001b[0mselect\u001b[0m\u001b[1;33m(\u001b[0m\u001b[1;34m'h4'\u001b[0m\u001b[1;33m)\u001b[0m\u001b[1;33m[\u001b[0m\u001b[1;36m0\u001b[0m\u001b[1;33m]\u001b[0m\u001b[1;33m.\u001b[0m\u001b[0mtext\u001b[0m \u001b[1;31m#臺灣台北地方法院 裁判書 -- 民事類\u001b[0m\u001b[1;33m\u001b[0m\u001b[0m\n\u001b[0;32m     50\u001b[0m     \u001b[0mlocal_list\u001b[0m \u001b[1;33m=\u001b[0m \u001b[0mre\u001b[0m\u001b[1;33m.\u001b[0m\u001b[0mmatch\u001b[0m\u001b[1;33m(\u001b[0m\u001b[1;34mr'(.+?) '\u001b[0m\u001b[1;33m,\u001b[0m \u001b[0mlocalation\u001b[0m\u001b[1;33m)\u001b[0m \u001b[1;31m#臺灣台北地方法院\u001b[0m\u001b[1;33m\u001b[0m\u001b[0m\n",
      "\u001b[1;31mIndexError\u001b[0m: list index out of range"
     ]
    }
   ],
   "source": [
    "import requests\n",
    "from bs4 import BeautifulSoup\n",
    "import re\n",
    "rs = requests.session()  \n",
    "\n",
    "cookie = 'ASP.NET_SessionId=h3ht1fnmnb3fdc55ka51x055; lawbank=e99b32a566474fc2a804d8586c297756-61; nrhbne=EWPsPPj5SRockjVVdZ6rRA==; _ga=GA1.3.816590347.1437135848; _gat=1; JubFrm-pagebox=%5EcourtFullName%3DTPDV%60SLDV%60PCDV%60ILDV%60KLDV%60TYDV%60SCDV%60MLDV%60TCDV%60CHDV%60NTDV%60ULDV%60CYDV%60TNDV%60KSDV%60HLDV%60TTDV%60PTDV%60PHDV%60KMDV%60LCDV%60KSYV%60%5Ejud_case%3D%E5%A9%9A%5Ejcatagory%3D2%5Eissimple%3D-1%5Ejt%3D%E9%9B%A2%E5%A9%9A; x=i=OnpkOJljJghaIT4I+qmQFrnmxKMP7DDXcDaMqFrFoS7ztkEy3aB2+qv8rA+TODfX&j=ExKZIgGGiQD19KUxjSulmRd4cCS013mf16VUoBCxWainbmYufAN3bzZLoLqLFhwxOnTKxyGFWxF875EJIi2dLxJH6hbqBxjAtbFdhUFXhN0N52w88aupjAgf+1xanz35gqeqSqCyVcutjKPBYXx2S4NWdfslegbdREC9AfMjAm+zkZefg3LaDBQlB1tXv4gpeRNEF+2/vUrprNHpdwTTB7ldH0fldmjQzRJ40RhXbZas97JDbl8rytgzE7yXF3pU1aOS+CB+FuM2RsvvSTyLiCA/5elsQqfeHdjc8WQbDMNqUpKGF0WwrEOYIPrl2U9p'\n",
    "header={'Cookie':cookie}\n",
    "\n",
    "local_diction={\n",
    "    '臺灣台北地方法院':1,\n",
    "    '臺灣士林地方法院':2,\n",
    "    '臺灣新北地方法院':3,\n",
    "    '臺灣宜蘭地方法院':4,\n",
    "    '臺灣基隆地方法院':5,\n",
    "    '臺灣桃園地方法院':6,\n",
    "    '臺灣新竹地方法院':7,\n",
    "    '臺灣苗栗地方法院':8,\n",
    "    '臺灣臺中地方法院':9,\n",
    "    '臺灣彰化地方法院':10,\n",
    "    '臺灣南投地方法院':11,\n",
    "    '臺灣雲林地方法院':12,\n",
    "    '臺灣嘉義地方法院':13,\n",
    "    '臺灣臺南地方法院':14,\n",
    "    '臺灣高雄地方法院':15,\n",
    "    '臺灣花蓮地方法院':16,\n",
    "    '臺灣臺東地方法院':17,\n",
    "    '臺灣屏東地方法院':18,\n",
    "    '臺灣澎湖地方法院':19,\n",
    "    '臺灣金門地方法院':20,\n",
    "    '臺灣連江地方法院':21,\n",
    "    '臺灣高雄少年及家事法院地方法院':22\n",
    "    }    \n",
    "\n",
    "res = requests.get('http://fyjud.lawbank.com.tw/listcontent5.aspx', headers=header) \n",
    "soup = BeautifulSoup(res.text)\n",
    "linklist = []\n",
    "filename = []\n",
    "print soup.select('.page td')[0].text  #頁數\n",
    "for ele in soup.select('.Table-List td a'):\n",
    "    linklist.append(ele.attrs['href'])\n",
    "    \n",
    "for list_num in range(0,len(linklist)-1):\n",
    "    rs_get =rs.get('http://fyjud.lawbank.com.tw/'+linklist[list_num],headers=header)\n",
    "    response = rs_get.text.encode('utf8')\n",
    "    response_soup = BeautifulSoup(response)\n",
    "\n",
    "    filenumber=response_soup.select('.Table-List td')[1].text\n",
    "    fileid=filenumber.split(',')[0].encode('utf8')+'05'+filenumber.split(',')[2].encode('utf8')\n",
    "    localation = soup.select('h4')[0].text #臺灣台北地方法院 裁判書 -- 民事類\n",
    "    local_list = re.match(r'(.+?) ', localation) #臺灣台北地方法院\n",
    "    local_str =','.join(local_list.groups(0))\n",
    "    local_id=local_diction[local_str.encode('utf8')]\n",
    "    \n",
    "    filename.append('sample'+str(local_id)+'_'+fileid)\n",
    "    judgedate=response_soup.select('.Table-List td')[3].text.encode('utf8') #【裁判日期】1040630\n",
    "    judge_reason=response_soup.select('.Table-List td')[5].text.encode('utf8') #【裁判案由】離婚\n",
    "    content=response_soup.select('.Table-List td')[8].text.encode('utf8')#【裁判全文】\n",
    "    record=fileid+\";\\n\\n\"+judgedate+\";\\n\\n\"+judge_reason+\";\\n\\n\"+content\n",
    "    f = open('E:\\iii\\DataSet\\sample'+str(local_id)+'_'+\\\n",
    "             fileid+'.txt', 'w')\n",
    "    f.writelines(record)\n",
    "    f.close()"
   ]
  },
  {
   "cell_type": "code",
   "execution_count": null,
   "metadata": {
    "collapsed": false,
    "scrolled": false
   },
   "outputs": [],
   "source": [
    "#coding=utf-8\n",
    "import jieba\n",
    "import jieba.posseg as pseg\n",
    "import operator\n",
    "\n",
    "fileword=\"\"\n",
    "dic = {}\n",
    "result = []\n",
    "jieba.set_dictionary(\"E:\\iii\\jieba\\dict.txt.big_2.txt\")\n",
    "file_list = open('E:\\\\iii\\\\DataSet\\\\'+ filename[0]+'.txt', 'r')\n",
    "file_list_2= open('E:\\\\iii\\\\DataSet\\\\'+ filename[0]+'_2'+'.txt', 'w')\n",
    "for line in file_list.readlines():\n",
    "    line_s=line.strip()\n",
    "    result.append(line_s)\n",
    "file_list_2.write(\", \".join(result))\n",
    "file_list_2.close()\n",
    "file_list.close()\n",
    "result2 = (\"\".join(result))\n",
    "seg_list = jieba.cut_for_search(result2) #type 'generator'\n",
    "\n",
    "seg_list_str=\", \".join(seg_list)\n",
    "print seg_list_str\n",
    "\n",
    "seg_list = jieba.cut_for_search(result2)  #再做一次將join(seg_list) 還原成原來的seg_list\n",
    "for ele in list(seg_list):\n",
    "    if ele not in dic:\n",
    "        dic[ele] = 1\n",
    "    else:\n",
    "        dic[ele] = dic[ele] + 1\n",
    "\n",
    "#print dic\n",
    "sorted_x = sorted(dic.items(), key=operator.itemgetter(1), reverse=True) #type : list\n",
    "\n",
    "for ele in sorted_x[0:50]:\n",
    "    #print ele.encode('utf8')\n",
    "    print ele\n",
    "\n",
    "#print type(sorted_x)\n",
    "f = open('E:\\\\iii\\\\DataSet\\\\'+ filename[0]+'_TermFeq'+'.txt','w')\n",
    "for key,value in sorted_x:\n",
    "    con = key.encode('utf8')+','+str(value)+'\\n'\n",
    "    f.write(con)\n",
    "f.close()"
   ]
  },
  {
   "cell_type": "code",
   "execution_count": null,
   "metadata": {
    "collapsed": true
   },
   "outputs": [],
   "source": []
  },
  {
   "cell_type": "code",
   "execution_count": null,
   "metadata": {
    "collapsed": true
   },
   "outputs": [],
   "source": []
  }
 ],
 "metadata": {
  "kernelspec": {
   "display_name": "Python 2",
   "language": "python",
   "name": "python2"
  },
  "language_info": {
   "codemirror_mode": {
    "name": "ipython",
    "version": 2
   },
   "file_extension": ".py",
   "mimetype": "text/x-python",
   "name": "python",
   "nbconvert_exporter": "python",
   "pygments_lexer": "ipython2",
   "version": "2.7.10"
  }
 },
 "nbformat": 4,
 "nbformat_minor": 0
}
