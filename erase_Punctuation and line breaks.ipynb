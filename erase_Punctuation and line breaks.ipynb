{
 "cells": [
  {
   "cell_type": "code",
   "execution_count": null,
   "metadata": {
    "collapsed": true
   },
   "outputs": [],
   "source": [
    "#-*- utf-8 -*-\n",
    "import codecs\n",
    "import operator\n",
    "import os\n",
    "\n",
    "cutlist = \" <>/:：;；,、＂’，.。！？｢\\\"\\'\\\\\\n\\r《》“”!@#$%^&*()\".decode(\"utf-8\")  ##列出標點符號，並轉換成utf-8的格式\n",
    "\n",
    "def cutSentence(text_path): ##放入原始文章路徑, 增加斷詞的list\n",
    "    text = codecs.open(text_path,\"r\",\"UTF-8\",errors='ignore')   #開檔\n",
    "    sentence = \"\"\n",
    "    textList = []\n",
    "       \n",
    "    for line in text.read():\n",
    "        line = line.strip() ##清除空白\n",
    "        #line = line.replace(' ', '')\n",
    "        \n",
    "        for word in line:\n",
    "            if word not in cutlist: #如果文字不是標點符號，就把字加到句子中\n",
    "                sentence += word\n",
    "                #print sentence\n",
    "            else:\n",
    "                textList.append(sentence) #把文章句子依標點符號與空白隔開\n",
    "                sentence = \"\"\n",
    "            #for ele in textList: #顯示文章所斷句子\n",
    "                #print ele\n",
    "    return textList   #返回一個list\n",
    "\n",
    "print ','.join(cutSentence(u'E:\\CKIP_PARSER\\Text\\input\\900_95_11_425_960213.txt'))#將list顯示出來"
   ]
  }
 ],
 "metadata": {
  "kernelspec": {
   "display_name": "Python 2",
   "language": "python",
   "name": "python2"
  },
  "language_info": {
   "codemirror_mode": {
    "name": "ipython",
    "version": 2
   },
   "file_extension": ".py",
   "mimetype": "text/x-python",
   "name": "python",
   "nbconvert_exporter": "python",
   "pygments_lexer": "ipython2",
   "version": "2.7.10"
  }
 },
 "nbformat": 4,
 "nbformat_minor": 0
}
