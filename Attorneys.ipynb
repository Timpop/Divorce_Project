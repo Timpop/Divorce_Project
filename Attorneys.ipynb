{
 "cells": [
  {
   "cell_type": "markdown",
   "metadata": {},
   "source": [
    "## 切原告被告"
   ]
  },
  {
   "cell_type": "code",
   "execution_count": null,
   "metadata": {
    "collapsed": true
   },
   "outputs": [],
   "source": [
    "#原告 訴訟代理人　賴淑玲律師 複 代 理人　蔡宜庭律師\n",
    "#反訴原告　王廣雄 反訴被告　鄭美蓮\n",
    "#反請求被告　林涵宥　訴訟代理人　王家鋐律師複　代理人　王偉明　反請求原告　丁平和　訴訟代理人　陳生全律師\n",
    "#原　告　即　反請求被告　林涵宥　訴訟代理人　王家鋐律師 複　代理人　王偉明　被　告　即反請求原告　丁平和  訴訟代理人　陳生全律師  複　代理人　江旻真　\n",
    "#原告即反訴被告　阮淑萍 訴 訟 代 理 人　蔡惠子律師 複　代　理　人　陳倚箴律師 被告即反訴原告　林敬皓"
   ]
  },
  {
   "cell_type": "code",
   "execution_count": null,
   "metadata": {
    "collapsed": true
   },
   "outputs": [],
   "source": [
    "import glob\n",
    "import re\n",
    "import codecs\n",
    "import _uniout\n",
    "count=0\n",
    "mariedlist=[]\n",
    "mislist=[]\n",
    "for ele in glob.glob(u'E:\\\\iii_DataSet\\\\Case\\\\test_Attorneys\\\\*.txt'):    \n",
    "#for ele in glob.glob(u'E:\\\\iii_DataSet\\\\Case\\\\eng_pk\\\\*.txt'):\n",
    "    with codecs.open( ele ,'r' ,'utf-8') as f :\n",
    "        content = f.read()\n",
    "        f.close()\n",
    "        mm=re.search(r'E:\\\\iii_DataSet\\\\Case\\\\test_Attorneys\\\\(\\w*.txt)',ele)\n",
    "        casename=mm.group(1)\n",
    "        print casename\n",
    "        m=re.sub(u'[\\s　 ]*','',content)\n",
    "        pl_attor=re.search(u'主文.*原告(.{1,30})被告',m)\n",
    "        di_attor=re.search(u'被告(.{1,30})當事人',m)\n",
    "        try:\n",
    "            pl_at=ac_attor.group(1)\n",
    "        except:\n",
    "            pl_at=\"ac_attor:error\"\n",
    "        try:\n",
    "            di_at=pl_attor.group(1)\n",
    "        except:\n",
    "            di_at=\"pl_attor:error\"\n",
    "        \n",
    "        r=open(u'E:\\\\iii_DataSet\\\\Case\\\\test_Attorneys\\\\temp\\\\'+casename,'w')\n",
    "        r.write(casename.encode('utf8')+'-原告'+pl_at.encode('utf8')+'-被告'+di_at.encode('utf8')+';')\n",
    "\n",
    "        r.close()\n",
    "        '''\n",
    "        print ele\n",
    "        print '--------------'     \n",
    "        '''"
   ]
  },
  {
   "cell_type": "code",
   "execution_count": null,
   "metadata": {
    "collapsed": true
   },
   "outputs": [],
   "source": [
    "import glob\n",
    "import re\n",
    "import codecs\n",
    "import _uniout\n",
    "#lawyerdic={}\n",
    "lawyerlist=[]\n",
    "\n",
    "for ele in glob.glob(u'E:\\\\iii_DataSet\\\\Case\\\\test_Attorneys\\\\temp\\\\*.txt'):    \n",
    "#for ele in glob.glob(u'E:\\\\iii_DataSet\\\\Case\\\\eng_pk\\\\*.txt'):\n",
    "    with codecs.open( ele ,'r' ,'utf-8') as f :\n",
    "        content = f.read()\n",
    "        f.close()\n",
    "        mm=re.search(r'E:\\\\iii_DataSet\\\\Case\\\\test_Attorneys\\\\temp\\\\(\\w*)'+'.txt',ele)\n",
    "        casename=mm.group(1)\n",
    "        acclsit=re.split('-',content)\n",
    "        #print acclsit[1] #原告\n",
    "        #print acclsit[2] #被告\n",
    "        print ele+'-----------------'\n",
    "        pllist=re.findall(u'.{1,4}律師',acclsit[1])\n",
    "        dilist=re.findall(u'.{1,4}律師',acclsit[2])\n",
    "    \n",
    "        #reate a ditcion\n",
    "        #awyerdic[casename] = \"Pllawyer\"+\":\"+_uniout.unescape(str(len(pllist)),'utf8')+\",\"+\"Dilawyer\"+\":\"+_uniout.unescape(str(len(dilist)),'utf8')\n",
    "        lawyerlist.append(casename+\":\"+str(len(pllist))+\":\"+str(len(dilist)))\n",
    "        \n",
    "wd=open(\"E:\\\\iii_DataSet\\\\Case\\\\test_Attorneys\\\\LawyerlistNum.txt\",\"w\")\n",
    "for n in lawyerlist:\n",
    "    wd.write(n+'\\r\\n')\n",
    "\n",
    "#write a dict in file\n",
    "'''  \n",
    "wd=open(u\"E:\\\\iii_DataSet\\\\Case\\\\test_Attorneys\\\\LawyerNum.txt\",\"w\")\n",
    "for n in lawyerdic:\n",
    "    wd.write(n.encode('utf8')+\",\"+lawyerdic[n]+\";\"+'\\r\\n')\n",
    "'''\n",
    "wd.close()"
   ]
  },
  {
   "cell_type": "code",
   "execution_count": 171,
   "metadata": {
    "collapsed": false
   },
   "outputs": [
    {
     "ename": "SyntaxError",
     "evalue": "Generator expression must be parenthesized if not sole argument (<ipython-input-171-d96b03d4130c>, line 12)",
     "output_type": "error",
     "traceback": [
      "\u001b[1;36m  File \u001b[1;32m\"<ipython-input-171-d96b03d4130c>\"\u001b[1;36m, line \u001b[1;32m12\u001b[0m\n\u001b[1;33m    result = db.attorney.update_many([{'_id' : re.split(':',n)[0]},{\"$set\":{'location' : re.split(':',n)[2]}}] for n in lawyerlist ,False).inserted_ids\u001b[0m\n\u001b[1;31mSyntaxError\u001b[0m\u001b[1;31m:\u001b[0m Generator expression must be parenthesized if not sole argument\n"
     ]
    }
   ],
   "source": [
    "import re\n",
    "import glob\n",
    "import codecs\n",
    "import _uniout\n",
    "import pymongo\n",
    "\n",
    "#db.drop_collection('')\n",
    "#bulk_example -> test\n",
    "db = pymongo.MongoClient().test\n",
    "#test -> collections\n",
    "db.attorney.insert_many([{'_id' : re.split(\":\",n)[0],'Plattorney': re.split(\":\",n)[1],'Diattorney':re.split(\":\",n)[2]} for n in lawyerlist]).inserted_ids\n",
    "#result = db.attorney.update_many([{'_id' : re.split(':',n)[0]},{\"$set\":{'location' : re.split(':',n)[2]}}] for n in lawyerlist ,False).inserted_ids\n",
    "#batch.insert(new_posts)"
   ]
  },
  {
   "cell_type": "code",
   "execution_count": null,
   "metadata": {
    "collapsed": true
   },
   "outputs": [],
   "source": []
  }
 ],
 "metadata": {
  "kernelspec": {
   "display_name": "Python 2",
   "language": "python",
   "name": "python2"
  },
  "language_info": {
   "codemirror_mode": {
    "name": "ipython",
    "version": 2
   },
   "file_extension": ".py",
   "mimetype": "text/x-python",
   "name": "python",
   "nbconvert_exporter": "python",
   "pygments_lexer": "ipython2",
   "version": "2.7.10"
  }
 },
 "nbformat": 4,
 "nbformat_minor": 0
}
